{
 "cells": [
  {
   "cell_type": "markdown",
   "metadata": {},
   "source": [
    "![citi_bank](images1.png)"
   ]
  },
  {
   "cell_type": "markdown",
   "metadata": {},
   "source": [
    "# DESCRIPTION\n",
    "Help Citibank predict defaulters! Citibank has hired you as a Machine Learning Expert to detect default in their newly launched Citi Gold Card. They have hired you as an Machine Learning and FinTech expert. This is an extremely time sensitive and urgent project as defaulters cause substantial loss to the system. They are willing to compensate heavily! Defaulters cause annually over ~ USD 50 Billion in losses."
   ]
  },
  {
   "cell_type": "markdown",
   "metadata": {},
   "source": [
    "# DATASET\n",
    "- X1 - Amount of the given credit (NT dollar): it includes both the individual consumer credit and his/her family (supplementary) credit.\n",
    "- X2 -Gender (1 = male; 2 = female).\n",
    "- X3 - Education (1 = graduate school; 2 = university; 3 = high school; 0,4,5,6 = others).\n",
    "- X4 - Marital status (1 = married; 2 = single; 3 = divorce; 0=others).\n",
    "- X5 - Age (year).\n",
    "- X6-X11 - History of past payment. We tracked the past monthly payment records (from April to September, 2005) as follows: X6 = the repayment status in September, 2005; X7 = the repayment status in August, 2005; . . .;X11 = the repayment status in April, 2005. The measurement scale for the repayment status is: -2 = No consumption; -1 = pay duly; 1 = payment delay for one month; 2 = payment delay for two months; . . .; 8 = payment delay for eight months; 9 = payment delay for nine months and above\n",
    "- X12-X17 - Amount of bill statement (NT dollar). X12 = amount of bill statement in September, 2005; X13 = amount of bill statement in August, 2005; . . .; X17 = amount of bill statement in April, 2005.\n",
    "- X18-X23 - Amount of previous payment (NT dollar). X18 = amount paid in September, 2005; X19 = amount paid in August, 2005; . . .;X23 = amount paid in April, 2005.\n"
   ]
  },
  {
   "cell_type": "code",
   "execution_count": 1,
   "metadata": {},
   "outputs": [
    {
     "name": "stderr",
     "output_type": "stream",
     "text": [
      "C:\\Users\\DINESHKUMAR\\Anaconda3\\lib\\site-packages\\sklearn\\ensemble\\weight_boosting.py:29: DeprecationWarning: numpy.core.umath_tests is an internal NumPy module and should not be imported. It will be removed in a future NumPy release.\n",
      "  from numpy.core.umath_tests import inner1d\n"
     ]
    }
   ],
   "source": [
    "# Load libraries\n",
    "import numpy as np\n",
    "from numpy import arange\n",
    "from matplotlib import pyplot\n",
    "from matplotlib import pyplot as plt\n",
    "import pandas as pd\n",
    "from pandas import read_csv\n",
    "from pandas import set_option\n",
    "from pandas.plotting import scatter_matrix\n",
    "import seaborn as sn\n",
    "from sklearn.preprocessing import StandardScaler\n",
    "from sklearn.model_selection import train_test_split\n",
    "from sklearn.model_selection import KFold\n",
    "from sklearn.model_selection import cross_val_score\n",
    "from sklearn.model_selection import GridSearchCV\n",
    "from sklearn.linear_model import LogisticRegression\n",
    "from sklearn.tree import DecisionTreeClassifier\n",
    "from sklearn.neighbors import KNeighborsClassifier\n",
    "from sklearn.pipeline import Pipeline\n",
    "from sklearn.ensemble import RandomForestClassifier\n",
    "from sklearn.ensemble import AdaBoostClassifier\n",
    "from sklearn.ensemble import BaggingClassifier\n",
    "from sklearn.naive_bayes import GaussianNB\n",
    "from sklearn.naive_bayes import MultinomialNB\n",
    "from sklearn.ensemble import GradientBoostingClassifier\n",
    "\n",
    "\n",
    "\n",
    "\n",
    "from sklearn.metrics import accuracy_score\n",
    "%matplotlib inline\n",
    "\n",
    "import warnings\n",
    "warnings.filterwarnings('ignore')"
   ]
  },
  {
   "cell_type": "code",
   "execution_count": 10,
   "metadata": {},
   "outputs": [],
   "source": [
    "# Load dataset\n",
    "train1=pd.read_csv('train1.csv')\n",
    "train2=pd.read_csv('train2.csv')\n",
    "train3=pd.read_csv('train3.csv')"
   ]
  },
  {
   "cell_type": "code",
   "execution_count": 11,
   "metadata": {},
   "outputs": [],
   "source": [
    "df_complete=pd.merge(train1,train2,on=['Ref.No'])\n",
    "df_complete=pd.merge(df_complete,train3,on=['Ref.No'])"
   ]
  },
  {
   "cell_type": "code",
   "execution_count": 12,
   "metadata": {},
   "outputs": [
    {
     "data": {
      "text/plain": [
       "<matplotlib.axes._subplots.AxesSubplot at 0x2889cdcc6d8>"
      ]
     },
     "execution_count": 12,
     "metadata": {},
     "output_type": "execute_result"
    },
    {
     "data": {
      "image/png": "[encoded data removed]",
      "text/plain": [
       "<Figure size 432x288 with 1 Axes>"
      ]
     },
     "metadata": {},
     "output_type": "display_data"
    }
   ],
   "source": [
    "sn.countplot(train1['Y'])"
   ]
  },
  {
   "cell_type": "markdown",
   "metadata": {},
   "source": [
    "The target column contains more non-defaulters,so that the model will most likely to predict the non-defaulters than defaulters"
   ]
  },
  {
   "cell_type": "code",
   "execution_count": 17,
   "metadata": {},
   "outputs": [
    {
     "data": {
      "text/plain": [
       "Ref.No     12001.5\n",
       "X1        140000.0\n",
       "X2             2.0\n",
       "X3             2.0\n",
       "X4             2.0\n",
       "X5            34.0\n",
       "X6             0.0\n",
       "X7             0.0\n",
       "Y              0.0\n",
       "X8             0.0\n",
       "X9             0.0\n",
       "X10            0.0\n",
       "X11            0.0\n",
       "X12        22182.0\n",
       "X13        21095.5\n",
       "X14        19978.0\n",
       "X15        18893.0\n",
       "X16        18019.0\n",
       "X17        16845.0\n",
       "X18         2100.0\n",
       "X19         2000.0\n",
       "X20         1700.0\n",
       "X21         1500.0\n",
       "X22         1500.0\n",
       "X23         1498.5\n",
       "Name: 50%, dtype: float64"
      ]
     },
     "execution_count": 17,
     "metadata": {},
     "output_type": "execute_result"
    }
   ],
   "source": [
    "df_complete.describe().T['50%']"
   ]
  },
  {
   "cell_type": "markdown",
   "metadata": {},
   "source": [
    "- Amount of bill payment -> X12-X17(from sep. 2015(X12) to Apr. 2015(X17)) the median has increased for every month.\n",
    "- Amount of previous payment -> X18-X23(from sep. 2015(X12) to Apr. 2015(X17)) the median is almost constant for first three months and gradually increased for next three months"
   ]
  },
  {
   "cell_type": "code",
   "execution_count": 9,
   "metadata": {},
   "outputs": [],
   "source": [
    "df_complete['pay_mode']=df_complete[df_complete.columns[6:13]].T.mode()[:1].T"
   ]
  },
  {
   "cell_type": "code",
   "execution_count": 22,
   "metadata": {},
   "outputs": [
    {
     "data": {
      "text/plain": [
       "Ref.No    False\n",
       "X1        False\n",
       "X2        False\n",
       "X3        False\n",
       "X4        False\n",
       "X5        False\n",
       "X6        False\n",
       "X7        False\n",
       "Y         False\n",
       "X8        False\n",
       "X9        False\n",
       "X10       False\n",
       "X11       False\n",
       "X12       False\n",
       "X13       False\n",
       "X14       False\n",
       "X15       False\n",
       "X16       False\n",
       "X17       False\n",
       "X18       False\n",
       "X19       False\n",
       "X20       False\n",
       "X21       False\n",
       "X22       False\n",
       "X23       False\n",
       "dtype: bool"
      ]
     },
     "execution_count": 22,
     "metadata": {},
     "output_type": "execute_result"
    }
   ],
   "source": [
    "df_complete.isnull().any()"
   ]
  },
  {
   "cell_type": "markdown",
   "metadata": {},
   "source": [
    "There is no null column in the given dataset"
   ]
  },
  {
   "cell_type": "code",
   "execution_count": 24,
   "metadata": {},
   "outputs": [],
   "source": [
    "#Drop the Id column(Ref.No)\n",
    "df_complete=df_complete.drop(['Ref.No'],axis=1)"
   ]
  },
  {
   "cell_type": "code",
   "execution_count": 25,
   "metadata": {},
   "outputs": [
    {
     "data": {
      "text/plain": [
       "<matplotlib.axes._subplots.AxesSubplot at 0x2889c20a3c8>"
      ]
     },
     "execution_count": 25,
     "metadata": {},
     "output_type": "execute_result"
    },
    {
     "data": {
      "image/png": "[encoded data removed]",
      "text/plain": [
       "<Figure size 864x432 with 2 Axes>"
      ]
     },
     "metadata": {},
     "output_type": "display_data"
    }
   ],
   "source": [
    "pyplot.subplots(figsize=(12,6))\n",
    "sn.heatmap(df_complete.corr()[df_complete.corr()>0.3],annot=True)"
   ]
  },
  {
   "cell_type": "markdown",
   "metadata": {},
   "source": [
    "- The correlation chart shows that the history of payments,amount of bill payment have strong corelation within themselves.\n",
    "- Only history of payment have some correlation with target column"
   ]
  },
  {
   "cell_type": "code",
   "execution_count": 27,
   "metadata": {},
   "outputs": [
    {
     "name": "stdout",
     "output_type": "stream",
     "text": [
      "   column        vif\n",
      "0      X1   4.053148\n",
      "1      X2   9.421567\n",
      "2      X3   6.841449\n",
      "3      X4   6.351399\n",
      "4      X5  10.939635\n",
      "5      X6   1.975513\n",
      "6      X7   3.207119\n",
      "7       Y   1.449422\n",
      "8      X8   3.765116\n",
      "9      X9   4.531212\n",
      "10    X10   4.891754\n",
      "11    X11   3.368553\n",
      "12    X12  21.301526\n",
      "13    X13  39.250470\n",
      "14    X14  32.146346\n",
      "15    X15  30.722554\n",
      "16    X16  37.368338\n",
      "17    X17  20.649770\n",
      "18    X18   1.794588\n",
      "19    X19   2.472503\n",
      "20    X20   1.702398\n",
      "21    X21   1.775662\n",
      "22    X22   1.845085\n",
      "23    X23   1.291618\n"
     ]
    }
   ],
   "source": [
    "from statsmodels.stats.outliers_influence import variance_inflation_factor\n",
    "x_features = list(df_complete)\n",
    "data_mat = df_complete[x_features].as_matrix()\n",
    "data_mat.shape\n",
    "vif = [ variance_inflation_factor( data_mat,i) for i in range(data_mat.shape[1]) ]\n",
    "vif_factors = pd.DataFrame()\n",
    "vif_factors['column'] = list(x_features)\n",
    "vif_factors['vif'] = vif\n",
    "print(vif_factors)"
   ]
  },
  {
   "cell_type": "code",
   "execution_count": 142,
   "metadata": {},
   "outputs": [],
   "source": [
    "# Split-out validation dataset\n",
    "#X = df_complete.drop(['Y','Ref.No','X6','X7','X8','X9','X10','X11'], axis=1)\n",
    "X = df_complete.drop(['Y','X5','X12','X13','X14','X15','X16','X17','X18'], axis=1)\n",
    "Y = df_complete[['Y']]"
   ]
  },
  {
   "cell_type": "code",
   "execution_count": 143,
   "metadata": {},
   "outputs": [],
   "source": [
    "validation_size = 0.20\n",
    "seed = 7\n",
    "X_train, X_validation, Y_train, Y_validation = train_test_split(X, Y, test_size=validation_size, random_state=seed)"
   ]
  },
  {
   "cell_type": "code",
   "execution_count": 144,
   "metadata": {},
   "outputs": [],
   "source": [
    "# Test options and evaluation metric\n",
    "num_folds = 10\n",
    "seed = 7\n",
    "scoring = 'accuracy'\n",
    "# Spot-Check Algorithms\n",
    "models = []\n",
    "models.append(('Logistic', LogisticRegression()))\n",
    "models.append(('KNN', KNeighborsClassifier()))\n",
    "models.append(('CART', DecisionTreeClassifier()))\n",
    "models.append(('RF',RandomForestClassifier()))\n",
    "models.append(('GB',GradientBoostingClassifier()))"
   ]
  },
  {
   "cell_type": "code",
   "execution_count": 145,
   "metadata": {},
   "outputs": [
    {
     "data": {
      "text/html": [
       "<div>\n",
       "<style scoped>\n",
       "    .dataframe tbody tr th:only-of-type {\n",
       "        vertical-align: middle;\n",
       "    }\n",
       "\n",
       "    .dataframe tbody tr th {\n",
       "        vertical-align: top;\n",
       "    }\n",
       "\n",
       "    .dataframe thead th {\n",
       "        text-align: right;\n",
       "    }\n",
       "</style>\n",
       "<table border=\"1\" class=\"dataframe\">\n",
       "  <thead>\n",
       "    <tr style=\"text-align: right;\">\n",
       "      <th></th>\n",
       "      <th>Model</th>\n",
       "      <th>Test Accuracy</th>\n",
       "      <th>Std.Dev</th>\n",
       "    </tr>\n",
       "  </thead>\n",
       "  <tbody>\n",
       "    <tr>\n",
       "      <th>0</th>\n",
       "      <td>Logistic</td>\n",
       "      <td>0.774074</td>\n",
       "      <td>0.008144</td>\n",
       "    </tr>\n",
       "    <tr>\n",
       "      <th>1</th>\n",
       "      <td>KNN</td>\n",
       "      <td>0.746991</td>\n",
       "      <td>0.010066</td>\n",
       "    </tr>\n",
       "    <tr>\n",
       "      <th>2</th>\n",
       "      <td>CART</td>\n",
       "      <td>0.717940</td>\n",
       "      <td>0.014730</td>\n",
       "    </tr>\n",
       "    <tr>\n",
       "      <th>3</th>\n",
       "      <td>RF</td>\n",
       "      <td>0.794850</td>\n",
       "      <td>0.007275</td>\n",
       "    </tr>\n",
       "    <tr>\n",
       "      <th>4</th>\n",
       "      <td>GB</td>\n",
       "      <td>0.815683</td>\n",
       "      <td>0.009041</td>\n",
       "    </tr>\n",
       "  </tbody>\n",
       "</table>\n",
       "</div>"
      ],
      "text/plain": [
       "      Model  Test Accuracy   Std.Dev\n",
       "0  Logistic       0.774074  0.008144\n",
       "1       KNN       0.746991  0.010066\n",
       "2      CART       0.717940  0.014730\n",
       "3        RF       0.794850  0.007275\n",
       "4        GB       0.815683  0.009041"
      ]
     },
     "execution_count": 145,
     "metadata": {},
     "output_type": "execute_result"
    }
   ],
   "source": [
    "# evaluate each model in turn\n",
    "results = []\n",
    "names = []\n",
    "model_comp=pd.DataFrame(columns=['Model','Test Accuracy','Std.Dev'])\n",
    "for name, model in models:\n",
    "    kfold = KFold(n_splits=num_folds, random_state=seed)\n",
    "    cv_results = cross_val_score(model, X_train, Y_train, cv=kfold, scoring=scoring)\n",
    "    results.append(cv_results)\n",
    "    names.append(name)\n",
    "    model_comp=model_comp.append([{'Model':name, 'Test Accuracy':cv_results.mean(), 'Std.Dev':cv_results.std()}],ignore_index=True)\n",
    "    \n",
    "model_comp"
   ]
  },
  {
   "cell_type": "markdown",
   "metadata": {},
   "source": [
    "The 10 fold Crossval accuracy score of each model comparison without scaling shows GradientBoost will give \n",
    "best accuracy when compare with other model with low standard deviation."
   ]
  },
  {
   "cell_type": "code",
   "execution_count": 60,
   "metadata": {},
   "outputs": [],
   "source": [
    "# Standardize the dataset\n",
    "pipelines = []\n",
    "pipelines.append(('ScaledKNN', Pipeline([('Scaler', StandardScaler()), ('KNN', KNeighborsClassifier())])))\n",
    "pipelines.append(('ScaledCART', Pipeline([ ('CART', DecisionTreeClassifier())])))\n",
    "pipelines.append(('ScaledLogistic', Pipeline([('Scaler', StandardScaler()), ('Logistic', LogisticRegression())])))\n",
    "pipelines.append(('ScaledRF', Pipeline([('Scaler', StandardScaler()), ('RF', RandomForestClassifier())])))\n",
    "pipelines.append(('ScaledGB', Pipeline([('Scaler', StandardScaler()), ('GB', GradientBoostingClassifier())])))\n"
   ]
  },
  {
   "cell_type": "code",
   "execution_count": 61,
   "metadata": {},
   "outputs": [
    {
     "data": {
      "text/html": [
       "<div>\n",
       "<style scoped>\n",
       "    .dataframe tbody tr th:only-of-type {\n",
       "        vertical-align: middle;\n",
       "    }\n",
       "\n",
       "    .dataframe tbody tr th {\n",
       "        vertical-align: top;\n",
       "    }\n",
       "\n",
       "    .dataframe thead th {\n",
       "        text-align: right;\n",
       "    }\n",
       "</style>\n",
       "<table border=\"1\" class=\"dataframe\">\n",
       "  <thead>\n",
       "    <tr style=\"text-align: right;\">\n",
       "      <th></th>\n",
       "      <th>Model</th>\n",
       "      <th>Test Accuracy</th>\n",
       "      <th>Std.Dev</th>\n",
       "    </tr>\n",
       "  </thead>\n",
       "  <tbody>\n",
       "    <tr>\n",
       "      <th>0</th>\n",
       "      <td>ScaledKNN</td>\n",
       "      <td>0.791030</td>\n",
       "      <td>0.009049</td>\n",
       "    </tr>\n",
       "    <tr>\n",
       "      <th>1</th>\n",
       "      <td>ScaledCART</td>\n",
       "      <td>0.720081</td>\n",
       "      <td>0.017914</td>\n",
       "    </tr>\n",
       "    <tr>\n",
       "      <th>2</th>\n",
       "      <td>ScaledLogistic</td>\n",
       "      <td>0.805324</td>\n",
       "      <td>0.008136</td>\n",
       "    </tr>\n",
       "    <tr>\n",
       "      <th>3</th>\n",
       "      <td>ScaledRF</td>\n",
       "      <td>0.795428</td>\n",
       "      <td>0.007155</td>\n",
       "    </tr>\n",
       "    <tr>\n",
       "      <th>4</th>\n",
       "      <td>ScaledGB</td>\n",
       "      <td>0.815625</td>\n",
       "      <td>0.008973</td>\n",
       "    </tr>\n",
       "  </tbody>\n",
       "</table>\n",
       "</div>"
      ],
      "text/plain": [
       "            Model  Test Accuracy   Std.Dev\n",
       "0       ScaledKNN       0.791030  0.009049\n",
       "1      ScaledCART       0.720081  0.017914\n",
       "2  ScaledLogistic       0.805324  0.008136\n",
       "3        ScaledRF       0.795428  0.007155\n",
       "4        ScaledGB       0.815625  0.008973"
      ]
     },
     "execution_count": 61,
     "metadata": {},
     "output_type": "execute_result"
    }
   ],
   "source": [
    "model_comp=pd.DataFrame(columns=['Model','Test Accuracy','Std.Dev'])\n",
    "results = []\n",
    "names = []\n",
    "for name, model in pipelines:\n",
    "    kfold = KFold(n_splits=num_folds, random_state=seed)\n",
    "    cv_results = cross_val_score(model, X_train, Y_train, cv=kfold, scoring=scoring)\n",
    "    results.append(cv_results)\n",
    "    names.append(name)\n",
    "    model_comp=model_comp.append([{'Model':name, 'Test Accuracy':cv_results.mean(), 'Std.Dev':cv_results.std()}],ignore_index=True)\n",
    "    \n",
    "model_comp"
   ]
  },
  {
   "cell_type": "markdown",
   "metadata": {},
   "source": [
    "Eventhough the crossval accuracy score of Logistic,KNN increased for scaled value, the GradientBoost seems to be good."
   ]
  },
  {
   "cell_type": "code",
   "execution_count": 161,
   "metadata": {},
   "outputs": [],
   "source": [
    "model=GradientBoostingClassifier()\n",
    "model=model.fit(X_train,Y_train)"
   ]
  },
  {
   "cell_type": "code",
   "execution_count": 162,
   "metadata": {},
   "outputs": [],
   "source": [
    "model1=BaggingClassifier(GradientBoostingClassifier())\n",
    "model1=model1.fit(X_train,Y_train)"
   ]
  },
  {
   "cell_type": "code",
   "execution_count": 163,
   "metadata": {},
   "outputs": [],
   "source": [
    "final_pred=model1.predict(X_validation)"
   ]
  },
  {
   "cell_type": "code",
   "execution_count": 148,
   "metadata": {},
   "outputs": [
    {
     "name": "stdout",
     "output_type": "stream",
     "text": [
      "0.8275462962962963\n"
     ]
    }
   ],
   "source": [
    "print(accuracy_score(Y_validation, final_pred))"
   ]
  },
  {
   "cell_type": "code",
   "execution_count": 150,
   "metadata": {},
   "outputs": [],
   "source": [
    "# Load the test dataset\n",
    "df_test=pd.read_csv('test_credit.csv')"
   ]
  },
  {
   "cell_type": "code",
   "execution_count": 153,
   "metadata": {},
   "outputs": [],
   "source": [
    "x_test = df_test.drop(['Y','Ref.No','X5','X12','X13','X14','X15','X16','X17','X18'], axis=1)"
   ]
  },
  {
   "cell_type": "code",
   "execution_count": 154,
   "metadata": {},
   "outputs": [],
   "source": [
    "pred=pd.DataFrame()\n",
    "pred['Ref.No']=df_test['Ref.No']\n",
    "pred['Y']=pd.DataFrame(data=model.predict(x_test))"
   ]
  },
  {
   "cell_type": "code",
   "execution_count": 159,
   "metadata": {},
   "outputs": [
    {
     "data": {
      "text/plain": [
       "0    2091\n",
       "1     308\n",
       "Name: Y, dtype: int64"
      ]
     },
     "execution_count": 159,
     "metadata": {},
     "output_type": "execute_result"
    }
   ],
   "source": [
    "pred['Y'].value_counts()"
   ]
  },
  {
   "cell_type": "code",
   "execution_count": 158,
   "metadata": {},
   "outputs": [],
   "source": [
    "pred.to_csv('last.csv',index=False)"
   ]
  },
  {
   "cell_type": "code",
   "execution_count": null,
   "metadata": {},
   "outputs": [],
   "source": []
  }
 ],
 "metadata": {
  "kernelspec": {
   "display_name": "Python 3",
   "language": "python",
   "name": "python3"
  },
  "language_info": {
   "codemirror_mode": {
    "name": "ipython",
    "version": 3
   },
   "file_extension": ".py",
   "mimetype": "text/x-python",
   "name": "python",
   "nbconvert_exporter": "python",
   "pygments_lexer": "ipython3",
   "version": "3.6.5"
  }
 },
 "nbformat": 4,
 "nbformat_minor": 2
}
